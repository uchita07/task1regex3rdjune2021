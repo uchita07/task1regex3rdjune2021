{
  "nbformat": 4,
  "nbformat_minor": 0,
  "metadata": {
    "colab": {
      "name": "#Task 1 reg id=SIRSS1076 Uchita Gupta.ipynb",
      "provenance": []
    },
    "kernelspec": {
      "name": "python3",
      "display_name": "Python 3"
    },
    "language_info": {
      "name": "python"
    }
  },
  "cells": [
    {
      "cell_type": "code",
      "metadata": {
        "colab": {
          "base_uri": "https://localhost:8080/"
        },
        "id": "gsl8Snh2q8Lm",
        "outputId": "ae9bf817-ff81-4da4-8852-6d0f43bb142b"
      },
      "source": [
        "rows = int(input(\"Enter the number of rows: \"))  \n",
        "  \n",
        "# the outer loop is executing in reversed order  \n",
        "for i in range(rows + 1, 0, -1):    \n",
        "    for j in range(0, i - 1):  \n",
        "        print(\"5\", end=' ')  \n",
        "    print(\" \")  "
      ],
      "execution_count": 2,
      "outputs": [
        {
          "output_type": "stream",
          "text": [
            "Enter the number of rows: 5\n",
            "5 5 5 5 5  \n",
            "5 5 5 5  \n",
            "5 5 5  \n",
            "5 5  \n",
            "5  \n",
            " \n"
          ],
          "name": "stdout"
        }
      ]
    },
    {
      "cell_type": "code",
      "metadata": {
        "colab": {
          "base_uri": "https://localhost:8080/"
        },
        "id": "RXH3wmRJssoM",
        "outputId": "da15bd92-dcc5-48b1-9e1a-69bfb3dd3116"
      },
      "source": [
        "rows = 5\n",
        "\n",
        "for i in range(rows, 0, -1):\n",
        "\n",
        "    for j in range(0, i + 1):\n",
        "\n",
        "        print(j, end=' ')\n",
        "\n",
        "    print(\" \")"
      ],
      "execution_count": 10,
      "outputs": [
        {
          "output_type": "stream",
          "text": [
            "0 1 2 3 4 5  \n",
            "0 1 2 3 4  \n",
            "0 1 2 3  \n",
            "0 1 2  \n",
            "0 1  \n"
          ],
          "name": "stdout"
        }
      ]
    },
    {
      "cell_type": "code",
      "metadata": {
        "colab": {
          "base_uri": "https://localhost:8080/"
        },
        "id": "stC0Fl02yFDj",
        "outputId": "7b380b4b-cb00-4f35-a817-6f2489a54bbb"
      },
      "source": [
        "rows = int(input(\"Enter the number of rows: \"))  \n",
        "i = 1  \n",
        "# outer file loop to print number of rows  \n",
        "while i <= rows:  \n",
        "    j = 1  \n",
        "    # Check the column after each iteration  \n",
        "    while j <= i:  \n",
        "        # print odd values  \n",
        "        print((i * 2 - 1), end=\" \")  \n",
        "        j = j + 1  \n",
        "    i = i + 1  \n",
        "    print()  "
      ],
      "execution_count": 2,
      "outputs": [
        {
          "output_type": "stream",
          "text": [
            "Enter the number of rows: 5\n",
            "1 \n",
            "3 3 \n",
            "5 5 5 \n",
            "7 7 7 7 \n",
            "9 9 9 9 9 \n"
          ],
          "name": "stdout"
        }
      ]
    },
    {
      "cell_type": "code",
      "metadata": {
        "colab": {
          "base_uri": "https://localhost:8080/"
        },
        "id": "sGVdyZmXzrJz",
        "outputId": "d6ccf35d-7526-4951-b5c8-67c7d1f9473a"
      },
      "source": [
        "rows = 6\n",
        "\n",
        "for row in range(1, rows):\n",
        "\n",
        "    for column in range(row, 0, -1):\n",
        "\n",
        "        print(column, end=' ')\n",
        "\n",
        "    print(\" \")"
      ],
      "execution_count": 3,
      "outputs": [
        {
          "output_type": "stream",
          "text": [
            "1  \n",
            "2 1  \n",
            "3 2 1  \n",
            "4 3 2 1  \n",
            "5 4 3 2 1  \n"
          ],
          "name": "stdout"
        }
      ]
    },
    {
      "cell_type": "code",
      "metadata": {
        "colab": {
          "base_uri": "https://localhost:8080/"
        },
        "id": "pVIbIjrJ2gDQ",
        "outputId": "bdda04c3-8b38-4663-a62a-5550f4d2c123"
      },
      "source": [
        "start = 1\n",
        "\n",
        "stop = 2\n",
        "\n",
        "currentNumber = stop\n",
        "\n",
        "for row in range(2, 6):\n",
        "\n",
        "    for col in range(start, stop):\n",
        "\n",
        "        currentNumber -= 1\n",
        "\n",
        "        print(currentNumber, end=' ')\n",
        "\n",
        "    print(\" \")\n",
        "\n",
        "    start = stop\n",
        "\n",
        "    stop += row\n",
        "\n",
        "    currentNumber = stop"
      ],
      "execution_count": 4,
      "outputs": [
        {
          "output_type": "stream",
          "text": [
            "1  \n",
            "3 2  \n",
            "6 5 4  \n",
            "10 9 8 7  \n"
          ],
          "name": "stdout"
        }
      ]
    },
    {
      "cell_type": "code",
      "metadata": {
        "colab": {
          "base_uri": "https://localhost:8080/"
        },
        "id": "K7Bv7lo_4Uqy",
        "outputId": "a1b8f153-4099-431b-952f-18108cea6292"
      },
      "source": [
        "def pascal(n):\n",
        "  for i in range(0, n):\n",
        "      for j in range(0, i+1):\n",
        "          print(function(i, j),\" \", end=\"\")\n",
        "      print()\n",
        "\n",
        "def function(n, k):\n",
        "    res = 1\n",
        "    if (k > n - k):\n",
        "        k = n - k\n",
        "    for i in range(0, k):\n",
        "        res = res * (n - i)\n",
        "        res = res // (i + 1)\n",
        "\n",
        "    return res\n",
        "\n",
        "pascal(7)    "
      ],
      "execution_count": 8,
      "outputs": [
        {
          "output_type": "stream",
          "text": [
            "1  \n",
            "1  1  \n",
            "1  2  1  \n",
            "1  3  3  1  \n",
            "1  4  6  4  1  \n",
            "1  5  10  10  5  1  \n",
            "1  6  15  20  15  6  1  \n"
          ],
          "name": "stdout"
        }
      ]
    },
    {
      "cell_type": "code",
      "metadata": {
        "colab": {
          "base_uri": "https://localhost:8080/"
        },
        "id": "6PM8Eqha6EVF",
        "outputId": "ff519eb7-7629-4ad9-8211-2da2d245dee2"
      },
      "source": [
        "rows = int(input(\"Enter the number of rows: \"))  \n",
        "for i in range(1, rows + 1):  \n",
        "    for j in range(1, rows + 1):  \n",
        "        # Check condition if value of j is smaller or equal than  \n",
        "        # the j then print i otherwise print j  \n",
        "        if j <= i:  \n",
        "            print(i, end=' ')  \n",
        "        else:  \n",
        "            print(j, end=' ')  \n",
        "    print()  "
      ],
      "execution_count": 9,
      "outputs": [
        {
          "output_type": "stream",
          "text": [
            "Enter the number of rows: 5\n",
            "1 2 3 4 5 \n",
            "2 2 3 4 5 \n",
            "3 3 3 4 5 \n",
            "4 4 4 4 5 \n",
            "5 5 5 5 5 \n"
          ],
          "name": "stdout"
        }
      ]
    },
    {
      "cell_type": "code",
      "metadata": {
        "colab": {
          "base_uri": "https://localhost:8080/"
        },
        "id": "hj64igkZ7TBn",
        "outputId": "836d47b6-09b4-4d7d-e22d-1d4beb7b5c0d"
      },
      "source": [
        "row = int(input(\"enter the number of rows: \"))\n",
        "for i in range(1, row):\n",
        "    for j in range(1, i+1):\n",
        "        print(i * j, end = ' ')\n",
        "    print()"
      ],
      "execution_count": 15,
      "outputs": [
        {
          "output_type": "stream",
          "text": [
            "enter the number of rows: 9\n",
            "1 \n",
            "2 4 \n",
            "3 6 9 \n",
            "4 8 12 16 \n",
            "5 10 15 20 25 \n",
            "6 12 18 24 30 36 \n",
            "7 14 21 28 35 42 49 \n",
            "8 16 24 32 40 48 56 64 \n"
          ],
          "name": "stdout"
        }
      ]
    },
    {
      "cell_type": "code",
      "metadata": {
        "colab": {
          "base_uri": "https://localhost:8080/"
        },
        "id": "0fqOMHtM-pVP",
        "outputId": "ce09d91d-818e-4bf8-a623-8a3f84a5a7b0"
      },
      "source": [
        "rows = int(input(\"Enter the number of rows: \"))  \n",
        "  \n",
        "# It is used to print space  \n",
        "k = 2 * rows - 2  \n",
        "# Outer loop in reverse order  \n",
        "for i in range(rows, -1, -1):  \n",
        "    # Inner loop will print the number of space.  \n",
        "    for j in range(k, 0, -1):  \n",
        "        print(end=\" \")  \n",
        "    k = k + 1  \n",
        "    # This inner loop will print the number o stars  \n",
        "    for j in range(0, i + 1):  \n",
        "        print(\"*\", end=\" \")  \n",
        "    print(\"\")  "
      ],
      "execution_count": 17,
      "outputs": [
        {
          "output_type": "stream",
          "text": [
            "Enter the number of rows: 5\n",
            "        * * * * * * \n",
            "         * * * * * \n",
            "          * * * * \n",
            "           * * * \n",
            "            * * \n",
            "             * \n"
          ],
          "name": "stdout"
        }
      ]
    },
    {
      "cell_type": "code",
      "metadata": {
        "colab": {
          "base_uri": "https://localhost:8080/"
        },
        "id": "W2XRZSQh_SGX",
        "outputId": "334e3c2b-acd1-47fb-a4aa-12526c3fe86e"
      },
      "source": [
        "n = int(input(\"Enter the number of rows: \"))  \n",
        "m = (2 * n) - 2  \n",
        "for i in range(0, n):  \n",
        "    for j in range(0, m):  \n",
        "        print(end=\" \")  \n",
        "    m = m - 1  # decrementing m after each loop  \n",
        "    for j in range(0, i + 1):  \n",
        "        # printing full Triangle pyramid using stars  \n",
        "        print(\"* \", end=' ')  \n",
        "    print(\" \")  "
      ],
      "execution_count": 18,
      "outputs": [
        {
          "output_type": "stream",
          "text": [
            "Enter the number of rows: 7\n",
            "            *   \n",
            "           *  *   \n",
            "          *  *  *   \n",
            "         *  *  *  *   \n",
            "        *  *  *  *  *   \n",
            "       *  *  *  *  *  *   \n",
            "      *  *  *  *  *  *  *   \n"
          ],
          "name": "stdout"
        }
      ]
    },
    {
      "cell_type": "code",
      "metadata": {
        "colab": {
          "base_uri": "https://localhost:8080/"
        },
        "id": "wgCleRgn_u4z",
        "outputId": "9a3327c4-b07a-411a-f0fe-2f2ca3047da9"
      },
      "source": [
        "rows = int(input(\"enter the number of rows: \"))\n",
        "\n",
        "# Outer loop will print the number of rows\n",
        "for i in range(0, rows):\n",
        "    # This inner loop will print the stars\n",
        "    for j in range(0, i+1):\n",
        "        print(\"*\", end=' ')\n",
        "    # Change line after each iteration\n",
        "    print(\" \")\n",
        "\n",
        "print()\n",
        "# For second pattern\n",
        "for i in range(rows + 1, 0, -1):\n",
        "    for j in range(0, i - 1):\n",
        "        print(\"*\",end=' ')\n",
        "    print(\" \")"
      ],
      "execution_count": 19,
      "outputs": [
        {
          "output_type": "stream",
          "text": [
            "enter the number of rows: 5\n",
            "*  \n",
            "* *  \n",
            "* * *  \n",
            "* * * *  \n",
            "* * * * *  \n",
            "\n",
            "* * * * *  \n",
            "* * * *  \n",
            "* * *  \n",
            "* *  \n",
            "*  \n",
            " \n"
          ],
          "name": "stdout"
        }
      ]
    },
    {
      "cell_type": "code",
      "metadata": {
        "colab": {
          "base_uri": "https://localhost:8080/"
        },
        "id": "0d6weMjKCIPT",
        "outputId": "036de241-4f0a-4c3b-cfe5-47a8905d3a1d"
      },
      "source": [
        "rows = int(input(\"Enter the number of rows: \"))  \n",
        "for i in range(0, rows):\n",
        "    for j in range(0, i + 1):\n",
        "        print(\"*\", end=' ')\n",
        "    print(\" \")\n",
        "\n",
        "for i in range(rows, 0, -1):\n",
        "    for j in range(0, i - 1):\n",
        "        print(\"*\", end=' ')\n",
        "    print(\" \")"
      ],
      "execution_count": 22,
      "outputs": [
        {
          "output_type": "stream",
          "text": [
            "Enter the number of rows: 5\n",
            "*  \n",
            "* *  \n",
            "* * *  \n",
            "* * * *  \n",
            "* * * * *  \n",
            "* * * *  \n",
            "* * *  \n",
            "* *  \n",
            "*  \n",
            " \n"
          ],
          "name": "stdout"
        }
      ]
    },
    {
      "cell_type": "code",
      "metadata": {
        "colab": {
          "base_uri": "https://localhost:8080/"
        },
        "id": "VNmAuMepC7-t",
        "outputId": "4ac59eef-6c80-44c3-dd33-20638c469fba"
      },
      "source": [
        "rows = int(input(\"Enter the number of rows: \"))\n",
        "i = 1\n",
        "while i <= rows:\n",
        "    j = i\n",
        "    while j < rows:\n",
        "        # display space\n",
        "        print(' ', end=' ')\n",
        "        j += 1\n",
        "    k = 1\n",
        "    while k <= i:\n",
        "        print('*', end=' ')\n",
        "        k += 1\n",
        "    print()\n",
        "    i += 1\n",
        "\n",
        "i = rows\n",
        "while i >= 1:\n",
        "    j = i\n",
        "    while j <= rows:\n",
        "        print(' ', end=' ')\n",
        "        j += 1\n",
        "    k = 1\n",
        "    while k < i:\n",
        "        print('*', end=' ')\n",
        "        k += 1\n",
        "    print('')\n",
        "    i -= 1"
      ],
      "execution_count": 23,
      "outputs": [
        {
          "output_type": "stream",
          "text": [
            "Enter the number of rows: 5\n",
            "        * \n",
            "      * * \n",
            "    * * * \n",
            "  * * * * \n",
            "* * * * * \n",
            "  * * * * \n",
            "    * * * \n",
            "      * * \n",
            "        * \n",
            "          \n"
          ],
          "name": "stdout"
        }
      ]
    },
    {
      "cell_type": "code",
      "metadata": {
        "colab": {
          "base_uri": "https://localhost:8080/"
        },
        "id": "oLM9AuNtDP1R",
        "outputId": "d520b6bb-d333-456c-d21a-2dc59009d4fa"
      },
      "source": [
        "rows = int(input(\"Enter the number of rows: \"))\n",
        "i = 0\n",
        "while i <= rows - 1:\n",
        "    j = 0\n",
        "    while j < i:\n",
        "        # display space\n",
        "        print('', end=' ')\n",
        "        j += 1\n",
        "    k = i\n",
        "    while k <= rows - 1:\n",
        "        print('*', end=' ')\n",
        "        k += 1\n",
        "    print()\n",
        "    i += 1\n",
        "\n",
        "i = rows - 1\n",
        "while i >= 0:\n",
        "    j = 0\n",
        "    while j < i:\n",
        "        print('', end=' ')\n",
        "        j += 1\n",
        "    k = i\n",
        "    while k <= rows - 1:\n",
        "        print('*', end=' ')\n",
        "        k += 1\n",
        "    print('')\n",
        "    i -= 1"
      ],
      "execution_count": 25,
      "outputs": [
        {
          "output_type": "stream",
          "text": [
            "Enter the number of rows: 5\n",
            "* * * * * \n",
            " * * * * \n",
            "  * * * \n",
            "   * * \n",
            "    * \n",
            "    * \n",
            "   * * \n",
            "  * * * \n",
            " * * * * \n",
            "* * * * * \n"
          ],
          "name": "stdout"
        }
      ]
    },
    {
      "cell_type": "code",
      "metadata": {
        "colab": {
          "base_uri": "https://localhost:8080/"
        },
        "id": "1hx2YseiDmrx",
        "outputId": "80bfaa2a-f108-47a5-d0cf-30f69c73f9a8"
      },
      "source": [
        "rows = int(input(\"Enter the number of rows: \"))\n",
        "print(\"*\" * rows, end=\"\\n\")\n",
        "i = (rows // 2) - 1\n",
        "j = 2\n",
        "while i != 0:\n",
        "    while j <= (rows - 2):\n",
        "        print(\"*\" * i, end=\"\")\n",
        "        print(\"_\" * j, end=\"\")\n",
        "        print(\"*\" * i, end=\"\\n\")\n",
        "        i = i - 1\n",
        "        j = j + 2"
      ],
      "execution_count": 27,
      "outputs": [
        {
          "output_type": "stream",
          "text": [
            "Enter the number of rows: 16\n",
            "****************\n",
            "*******__*******\n",
            "******____******\n",
            "*****______*****\n",
            "****________****\n",
            "***__________***\n",
            "**____________**\n",
            "*______________*\n"
          ],
          "name": "stdout"
        }
      ]
    }
  ]
}